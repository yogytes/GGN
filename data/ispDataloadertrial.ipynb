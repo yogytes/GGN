{
 "cells": [
  {
   "cell_type": "code",
   "execution_count": 1,
   "metadata": {},
   "outputs": [],
   "source": [
    "import csv\n",
    "import pickle\n",
    "import torch\n",
    "import numpy as np\n",
    "import pandas as pd\n",
    "\n",
    "orig_dd = pd.read_csv(\"AOA_1539000552401_1_ISP-Data-For-Anomaly-Detection/all_data.csv\", encoding=\"UTF-8\")\n"
   ]
  },
  {
   "cell_type": "code",
   "execution_count": 2,
   "metadata": {},
   "outputs": [],
   "source": [
    "orig_dd = orig_dd.iloc[:, 2:]\n",
    "orig_dd = orig_dd.astype(np.float32)"
   ]
  },
  {
   "cell_type": "code",
   "execution_count": 9,
   "metadata": {},
   "outputs": [
    {
     "data": {
      "text/plain": [
       "torch.Size([684619, 40, 1, 1])"
      ]
     },
     "execution_count": 9,
     "metadata": {},
     "output_type": "execute_result"
    }
   ],
   "source": [
    "orig_data_tensor = torch.FloatTensor(orig_dd.values)\n",
    "\n",
    "\n",
    "orig_data_tensor= orig_data_tensor.reshape([orig_data_tensor.shape[0], orig_data_tensor.shape[1],1,1])\n",
    "orig_data_tensor.shape"
   ]
  },
  {
   "cell_type": "code",
   "execution_count": 10,
   "metadata": {},
   "outputs": [],
   "source": [
    "\n",
    "\n",
    "\n",
    "\n",
    "train_data = orig_data_tensor[: orig_data_tensor.shape[0] // 7 * 5, :,:,:]\n",
    "val_data = orig_data_tensor[orig_data_tensor.shape[0] // 7 * 5: orig_data_tensor.shape[0] // 7 * 6, :,:,:]\n",
    "test_data = orig_data_tensor[orig_data_tensor.shape[0] // 7 * 6:, :,:,:]\n"
   ]
  },
  {
   "cell_type": "code",
   "execution_count": 11,
   "metadata": {},
   "outputs": [],
   "source": [
    "import networkx as nx\n",
    "import scipy\n",
    "\n",
    "G = nx.random_regular_graph(4, 40, seed=2050)\n",
    "A = nx.to_scipy_sparse_matrix(G, format='csr')\n",
    "n, m = A.shape\n",
    "diags = A.sum(axis=1)\n",
    "D = scipy.sparse.spdiags(diags.flatten(), [0], m, n, format='csr')\n",
    "\n",
    "A=A.astype(dtype='float32')\n",
    "obj_matrix = torch.FloatTensor(A.toarray())\n",
    "\n",
    "\n",
    "\n",
    "results = [obj_matrix, train_data, val_data, test_data]\n",
    "\n",
    "with open(\"isp_data.pickle\", 'wb') as f:\n",
    "    pickle.dump(results, f)\n"
   ]
  },
  {
   "cell_type": "code",
   "execution_count": 12,
   "metadata": {},
   "outputs": [
    {
     "name": "stdout",
     "output_type": "stream",
     "text": [
      "4\n",
      "torch.Size([40, 40])\n",
      "torch.Size([489010, 40, 1, 1])\n",
      "torch.Size([97802, 40, 1, 1])\n",
      "torch.Size([97807, 40, 1, 1])\n"
     ]
    }
   ],
   "source": [
    "with open(\"isp_data.pickle\", 'rb') as f:\n",
    "    out =pickle.load(f)\n",
    "\n",
    "print(len(out))\n",
    "print(out[0].shape)\n",
    "print(out[1].shape)\n",
    "print(out[2].shape)\n",
    "print(out[3].shape)\n"
   ]
  },
  {
   "cell_type": "code",
   "execution_count": null,
   "metadata": {},
   "outputs": [],
   "source": []
  }
 ],
 "metadata": {
  "kernelspec": {
   "display_name": "Python 3",
   "language": "python",
   "name": "python3"
  },
  "language_info": {
   "codemirror_mode": {
    "name": "ipython",
    "version": 3
   },
   "file_extension": ".py",
   "mimetype": "text/x-python",
   "name": "python",
   "nbconvert_exporter": "python",
   "pygments_lexer": "ipython3",
   "version": "3.7.3"
  }
 },
 "nbformat": 4,
 "nbformat_minor": 2
}
